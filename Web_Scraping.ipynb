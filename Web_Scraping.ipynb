{
  "nbformat": 4,
  "nbformat_minor": 0,
  "metadata": {
    "colab": {
      "provenance": []
    },
    "kernelspec": {
      "name": "python3",
      "display_name": "Python 3"
    },
    "language_info": {
      "name": "python"
    }
  },
  "cells": [
    {
      "cell_type": "markdown",
      "source": [
        "**Instalando Bibliotecas**\n",
        "\n",
        "Para a raspagem de dadoa foi necessário instalar duas bibliotecas que não eram nativas, a Requests e a bs4"
      ],
      "metadata": {
        "id": "Ujj8f9jEhc4Q"
      }
    },
    {
      "cell_type": "code",
      "execution_count": 1,
      "metadata": {
        "colab": {
          "base_uri": "https://localhost:8080/"
        },
        "id": "ftMpAAGQpcmv",
        "outputId": "829a76be-1b88-4540-f3bf-2e042932e5ae"
      },
      "outputs": [
        {
          "output_type": "stream",
          "name": "stdout",
          "text": [
            "Requirement already satisfied: requests in /usr/local/lib/python3.10/dist-packages (2.32.3)\n",
            "Requirement already satisfied: charset-normalizer<4,>=2 in /usr/local/lib/python3.10/dist-packages (from requests) (3.3.2)\n",
            "Requirement already satisfied: idna<4,>=2.5 in /usr/local/lib/python3.10/dist-packages (from requests) (3.10)\n",
            "Requirement already satisfied: urllib3<3,>=1.21.1 in /usr/local/lib/python3.10/dist-packages (from requests) (2.0.7)\n",
            "Requirement already satisfied: certifi>=2017.4.17 in /usr/local/lib/python3.10/dist-packages (from requests) (2024.8.30)\n",
            "Collecting bs4\n",
            "  Downloading bs4-0.0.2-py2.py3-none-any.whl.metadata (411 bytes)\n",
            "Requirement already satisfied: beautifulsoup4 in /usr/local/lib/python3.10/dist-packages (from bs4) (4.12.3)\n",
            "Requirement already satisfied: soupsieve>1.2 in /usr/local/lib/python3.10/dist-packages (from beautifulsoup4->bs4) (2.6)\n",
            "Downloading bs4-0.0.2-py2.py3-none-any.whl (1.2 kB)\n",
            "Installing collected packages: bs4\n",
            "Successfully installed bs4-0.0.2\n"
          ]
        }
      ],
      "source": [
        "! pip install requests\n",
        "! pip install bs4"
      ]
    },
    {
      "cell_type": "code",
      "source": [
        "import requests\n",
        "import csv\n",
        "import pandas as pd\n",
        "import numpy as np\n",
        "from bs4 import BeautifulSoup\n",
        "from datetime import datetime, timedelta"
      ],
      "metadata": {
        "id": "ZQG8z_iNqijr"
      },
      "execution_count": 2,
      "outputs": []
    },
    {
      "cell_type": "code",
      "source": [
        "with open('alagamentos.csv', 'a', newline='', encoding='utf-8') as csvfile:\n",
        "    campos_head = ['Data', 'Sub-prefeitura', 'Pontos de Alagamento', 'Hora de Inicio', 'Hora de Termino', 'Local']\n",
        "    writer = csv.DictWriter(csvfile, fieldnames=campos_head, delimiter=';')\n",
        "    writer.writeheader()"
      ],
      "metadata": {
        "id": "xtyw_4KmJh0o"
      },
      "execution_count": 3,
      "outputs": []
    },
    {
      "cell_type": "code",
      "source": [
        "data_x = datetime(year= 2012, month= 1, day= 1).date()\n",
        "data_y = datetime(year= 2012, month= 12, day= 31).date()\n",
        "\n",
        "while data_x <= data_y:\n",
        "    ano = data_x.year\n",
        "    mes = data_x.month\n",
        "    dia = data_x.day\n",
        "    data_completa = data_x.strftime(\"%d-%m-%Y\")\n",
        "\n",
        "    url = f'https://www.cgesp.org/v3/alagamentos.jsp?dataBusca={dia}%2F{mes}%2F{ano}&enviaBusca=Buscar'\n",
        "    headers = {'User-Agent': 'Mozilla/5.0 (Windows NT 10.0; Win64; x64) AppleWebKit/537.36 (KHTML, like Gecko) Chrome/128.0.0.0 Safari/537.36'}\n",
        "    site = requests.get(url, headers = headers)\n",
        "\n",
        "    soup = BeautifulSoup(site.text, 'html.parser')\n",
        "\n",
        "    sub_prefeituras = soup.find_all('td' , class_='bairro arial-bairros-alag linha-pontilhada')\n",
        "    pontos_alagamento = soup.find_all('td' , class_='total-pts arial-bairros-alag')\n",
        "    infos_alagamento = soup.find_all('li' , class_='arial-descr-alag col-local')\n",
        "    contador = 0\n",
        "\n",
        "    for i in range(len(sub_prefeituras)):\n",
        "      sub_pref = (sub_prefeituras[i].get_text().strip())\n",
        "      pts_alag = (int(pontos_alagamento[i].get_text().replace(\" pts.\",\"\").strip()))\n",
        "      for j in range(pts_alag):\n",
        "          hora_inicio = (infos_alagamento[contador].get_text().strip()[3:8])\n",
        "          hora_fim = (infos_alagamento[contador].get_text().strip()[11:16])\n",
        "          local = (infos_alagamento[contador].get_text().strip()[16:])\n",
        "          contador = contador + 1\n",
        "\n",
        "          with open('alagamentos.csv', 'a', newline='', encoding='utf-8') as csvfile:\n",
        "              writer = csv.DictWriter(csvfile, fieldnames=campos_head, delimiter=';')\n",
        "              writer.writerow({'Data' : data_completa,\n",
        "                               'Sub-prefeitura': sub_pref,\n",
        "                               'Pontos de Alagamento' : pts_alag,\n",
        "                               'Hora de Inicio' : hora_inicio,\n",
        "                               'Hora de Termino' : hora_fim,\n",
        "                               'Local' : local})\n",
        "\n",
        "    data_x = data_x + timedelta(days = 1)"
      ],
      "metadata": {
        "id": "3mNY_noKscLP"
      },
      "execution_count": 6,
      "outputs": []
    }
  ]
}